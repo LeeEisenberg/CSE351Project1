{
  "cells": [
    {
      "cell_type": "markdown",
      "metadata": {
        "id": "dCWM6Iwer5VE"
      },
      "source": [
        "Lee Eisenberg & ShaoYang Li"
      ]
    },
    {
      "cell_type": "code",
      "execution_count": 3,
      "metadata": {
        "id": "TBcwtx4Pr9Qf"
      },
      "outputs": [],
      "source": [
        "import pandas as pd\n",
        "import numpy as np\n",
        "import matplotlib.pyplot as plt\n",
        "dfTrain = pd.read_csv('train.csv')\n",
        "dfTest = pd.read_csv('test.csv')"
      ]
    },
    {
      "cell_type": "markdown",
      "metadata": {},
      "source": [
        "I couldn't find any outliers from looking through the data, but I'll see if any become apparent after futher data manipulation."
      ]
    },
    {
      "cell_type": "code",
      "execution_count": 16,
      "metadata": {},
      "outputs": [
        {
          "name": "stderr",
          "output_type": "stream",
          "text": [
            "C:\\Users\\antee\\AppData\\Local\\Temp\\ipykernel_59848\\1284366677.py:3: FutureWarning: A value is trying to be set on a copy of a DataFrame or Series through chained assignment using an inplace method.\n",
            "The behavior will change in pandas 3.0. This inplace method will never work because the intermediate object on which we are setting values always behaves as a copy.\n",
            "\n",
            "For example, when doing 'df[col].method(value, inplace=True)', try using 'df.method({col: value}, inplace=True)' or df[col] = df[col].method(value) instead, to perform the operation inplace on the original object.\n",
            "\n",
            "\n",
            "  dfEconomic['Fare'].replace(0, 1, inplace=True) #avoid divide by 0 in logarithm\n"
          ]
        },
        {
          "data": {
            "text/plain": [
              "Text(0.5, 1.0, 'Economic Correlation Heatmap')"
            ]
          },
          "execution_count": 16,
          "metadata": {},
          "output_type": "execute_result"
        },
        {
          "data": {
            "image/png": "[encoded data removed]",
            "text/plain": [
              "<Figure size 288x288 with 2 Axes>"
            ]
          },
          "metadata": {
            "needs_background": "light"
          },
          "output_type": "display_data"
        }
      ],
      "source": [
        "dfEconomic = dfTrain[['Pclass', 'Fare', 'Survived', 'Sex', 'Age', 'SibSp', 'Parch']]\n",
        "dfEconomic = dfEconomic.dropna() #just for now\n",
        "dfEconomic['Fare'].replace(0, 1, inplace=True) #avoid divide by 0 in logarithm\n",
        "dfEconomic['LogFare'] = np.log(dfEconomic['Fare'])\n",
        "\n",
        "def genderInt(x):\n",
        "    if x == 'male':\n",
        "        return 1\n",
        "    else:\n",
        "        return 0\n",
        "\n",
        "dfEconomic['Sex'] = dfEconomic['Sex'].apply(genderInt)\n",
        "dfEconomic['Sex'] = pd.to_numeric(dfEconomic['Sex'])\n",
        "dfEconomicPairwise = dfEconomic.corr(numeric_only=False) #pairwise correlation matrix\n",
        "plt.matshow(dfEconomicPairwise, vmin = -1) #plot heatmap\n",
        "plt.xticks(range(len(dfEconomicPairwise.columns)), dfEconomicPairwise.columns, rotation = 90)\n",
        "plt.yticks(range(len(dfEconomicPairwise.columns)), dfEconomicPairwise.columns)\n",
        "plt.colorbar()\n",
        "plt.title('Economic Correlation Heatmap')"
      ]
    }
  ],
  "metadata": {
    "colab": {
      "provenance": []
    },
    "kernelspec": {
      "display_name": "Python 3",
      "name": "python3"
    },
    "language_info": {
      "codemirror_mode": {
        "name": "ipython",
        "version": 3
      },
      "file_extension": ".py",
      "mimetype": "text/x-python",
      "name": "python",
      "nbconvert_exporter": "python",
      "pygments_lexer": "ipython3",
      "version": "3.9.12"
    }
  },
  "nbformat": 4,
  "nbformat_minor": 0
}
