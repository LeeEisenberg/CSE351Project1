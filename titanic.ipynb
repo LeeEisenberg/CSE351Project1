{
  "cells": [
    {
      "cell_type": "markdown",
      "metadata": {
        "id": "dCWM6Iwer5VE"
      },
      "source": [
        "Lee Eisenberg & ShaoYang Li"
      ]
    },
    {
      "cell_type": "code",
      "execution_count": 45,
      "metadata": {
        "id": "TBcwtx4Pr9Qf"
      },
      "outputs": [],
      "source": [
        "import pandas as pd\n",
        "import numpy as np\n",
        "import matplotlib.pyplot as plt\n",
        "dfTrain = pd.read_csv('train.csv')\n",
        "dfTest = pd.read_csv('test.csv')"
      ]
    },
    {
      "cell_type": "markdown",
      "metadata": {},
      "source": [
        "I couldn't find any outliers from looking through the data, but I'll see if any become apparent after futher data manipulation."
      ]
    },
    {
      "cell_type": "code",
      "execution_count": 64,
      "metadata": {},
      "outputs": [
        {
          "name": "stderr",
          "output_type": "stream",
          "text": [
            "C:\\Users\\antee\\AppData\\Local\\Temp\\ipykernel_34592\\1284366677.py:3: FutureWarning: A value is trying to be set on a copy of a DataFrame or Series through chained assignment using an inplace method.\n",
            "The behavior will change in pandas 3.0. This inplace method will never work because the intermediate object on which we are setting values always behaves as a copy.\n",
            "\n",
            "For example, when doing 'df[col].method(value, inplace=True)', try using 'df.method({col: value}, inplace=True)' or df[col] = df[col].method(value) instead, to perform the operation inplace on the original object.\n",
            "\n",
            "\n",
            "  dfEconomic['Fare'].replace(0, 1, inplace=True) #avoid divide by 0 in logarithm\n"
          ]
        },
        {
          "data": {
            "text/plain": [
              "Text(0.5, 1.0, 'Economic Correlation Heatmap')"
            ]
          },
          "execution_count": 64,
          "metadata": {},
          "output_type": "execute_result"
        },
        {
          "data": {
            "image/png": "[encoded data removed]",
            "text/plain": [
              "<Figure size 288x288 with 2 Axes>"
            ]
          },
          "metadata": {
            "needs_background": "light"
          },
          "output_type": "display_data"
        }
      ],
      "source": [
        "dfEconomic = dfTrain[['Pclass', 'Fare', 'Survived', 'Sex', 'Age', 'SibSp', 'Parch']]\n",
        "dfEconomic = dfEconomic.dropna() #just for now\n",
        "dfEconomic['Fare'].replace(0, 1, inplace=True) #avoid divide by 0 in logarithm\n",
        "dfEconomic['LogFare'] = np.log(dfEconomic['Fare'])\n",
        "\n",
        "def genderInt(x):\n",
        "    if x == 'male':\n",
        "        return 1\n",
        "    else:\n",
        "        return 0\n",
        "\n",
        "dfEconomic['Sex'] = dfEconomic['Sex'].apply(genderInt)\n",
        "dfEconomic['Sex'] = pd.to_numeric(dfEconomic['Sex'])\n",
        "dfEconomicPairwise = dfEconomic.corr(numeric_only=False) #pairwise correlation matrix\n",
        "plt.matshow(dfEconomicPairwise, vmin = -1) #plot heatmap\n",
        "plt.xticks(range(len(dfEconomicPairwise.columns)), dfEconomicPairwise.columns, rotation = 90)\n",
        "plt.yticks(range(len(dfEconomicPairwise.columns)), dfEconomicPairwise.columns)\n",
        "plt.colorbar()\n",
        "plt.title('Economic Correlation Heatmap')"
      ]
    },
    {
      "cell_type": "markdown",
      "metadata": {},
      "source": [
        "There is a strong correlation between a passenger's class and their fare, and an even stronger correlation with the logarithm of their fare. There is also a strong correlation between a passenger's gender and survival, with women being much more likely to survive."
      ]
    },
    {
      "cell_type": "code",
      "execution_count": 61,
      "metadata": {},
      "outputs": [
        {
          "name": "stdout",
          "output_type": "stream",
          "text": [
            "All Stats\n",
            "             Mean      Stdev   Median\n",
            "Pclass   2.308642   0.836071   3.0000\n",
            "Fare    32.204208  49.693429  14.4542\n",
            "Sex      0.647587   0.477990   1.0000\n",
            "Age     29.699118  14.526497  28.0000\n",
            "SibSp    0.523008   1.102743   0.0000\n",
            "Parch    0.381594   0.806057   0.0000\n",
            "Survivors Stats\n",
            "             Mean      Stdev  Median\n",
            "Pclass   1.950292   0.863321     2.0\n",
            "Fare    48.395408  66.596998    26.0\n",
            "Sex      0.318713   0.466660     0.0\n",
            "Age     28.343690  14.950952    28.0\n",
            "SibSp    0.473684   0.708688     0.0\n",
            "Parch    0.464912   0.771712     0.0\n",
            "Dead Stats\n",
            "             Mean      Stdev  Median\n",
            "Pclass   2.531876   0.735805     3.0\n",
            "Fare    22.117887  31.388207    10.5\n",
            "Sex      0.852459   0.354968     1.0\n",
            "Age     30.626179  14.172110    28.0\n",
            "SibSp    0.553734   1.288399     0.0\n",
            "Parch    0.329690   0.823166     0.0\n"
          ]
        },
        {
          "name": "stderr",
          "output_type": "stream",
          "text": [
            "C:\\Users\\antee\\AppData\\Local\\Temp\\ipykernel_34592\\3586192675.py:2: FutureWarning: Downcasting behavior in `replace` is deprecated and will be removed in a future version. To retain the old behavior, explicitly call `result.infer_objects(copy=False)`. To opt-in to the future behavior, set `pd.set_option('future.no_silent_downcasting', True)`\n",
            "  dfTrainNumeric['Sex'] = dfTrainNumeric['Sex'].replace(['male', 'female'], [1, 0]) #convert gender to numeric\n",
            "C:\\Users\\antee\\AppData\\Local\\Temp\\ipykernel_34592\\3586192675.py:2: SettingWithCopyWarning: \n",
            "A value is trying to be set on a copy of a slice from a DataFrame.\n",
            "Try using .loc[row_indexer,col_indexer] = value instead\n",
            "\n",
            "See the caveats in the documentation: https://pandas.pydata.org/pandas-docs/stable/user_guide/indexing.html#returning-a-view-versus-a-copy\n",
            "  dfTrainNumeric['Sex'] = dfTrainNumeric['Sex'].replace(['male', 'female'], [1, 0]) #convert gender to numeric\n"
          ]
        }
      ],
      "source": [
        "dfTrainNumeric = dfTrain[['Pclass', 'Fare', 'Survived', 'Sex', 'Age', 'SibSp', 'Parch']]\n",
        "dfTrainNumeric['Sex'] = dfTrainNumeric['Sex'].replace(['male', 'female'], [1, 0]) #convert gender to numeric\n",
        "dfTrainNumeric.apply({'Sex': pd.to_numeric}, inplace=True)\n",
        "\n",
        "dfAllMean = dfTrainNumeric.mean()\n",
        "dfAllStdev = dfTrainNumeric.std()\n",
        "dfAllMedian = dfTrainNumeric.median()\n",
        "dfAllStats = pd.concat([dfAllMean, dfAllStdev, dfAllMedian], axis=1)\n",
        "dfAllStats.columns = ['Mean', 'Stdev', 'Median']\n",
        "dfAllStats = dfAllStats.drop('Survived')\n",
        "print('All Stats')\n",
        "print(dfAllStats)\n",
        "\n",
        "dfSurvivors = dfTrainNumeric[dfTrainNumeric['Survived'] == 1]\n",
        "dfDead = dfTrainNumeric[dfTrainNumeric['Survived'] == 0]\n",
        "dfSurvivorsMean = dfSurvivors.mean()\n",
        "dfDeadMean = dfDead.mean()\n",
        "dfSurvivorsStdev = dfSurvivors.std()\n",
        "dfDeadStdev = dfDead.std()\n",
        "dfSurvivorsMedian = dfSurvivors.median()\n",
        "dfDeadMedian = dfDead.median()\n",
        "dfSurvivorsStats = pd.concat([dfSurvivorsMean, dfSurvivorsStdev, dfSurvivorsMedian], axis=1)\n",
        "dfSurvivorsStats.columns = ['Mean', 'Stdev', 'Median']\n",
        "dfDeadStats = pd.concat([dfDeadMean, dfDeadStdev, dfDeadMedian], axis=1)\n",
        "dfDeadStats.columns = ['Mean', 'Stdev', 'Median']\n",
        "dfSurvivorsStats = dfSurvivorsStats.drop('Survived')\n",
        "dfDeadStats = dfDeadStats.drop('Survived')\n",
        "print('Survivors Stats') #sex value represents percentage that are male\n",
        "print(dfSurvivorsStats)\n",
        "print('Dead Stats')\n",
        "print(dfDeadStats)\n"
      ]
    },
    {
      "cell_type": "markdown",
      "metadata": {},
      "source": [
        "These statistics tell us that the average survivor was of a higher class, paid a higher fare, and had more parents / children aboard then the average non-survivor. The average survivor was also much more likely to be a female then a male. However, the average age and number of siblings / spouses aboard was about the same for both survivors and non-survivors."
      ]
    },
    {
      "cell_type": "code",
      "execution_count": 60,
      "metadata": {},
      "outputs": [
        {
          "name": "stdout",
          "output_type": "stream",
          "text": [
            "Male Stats\n",
            "               Mean      Stdev  Median\n",
            "Pclass     2.389948   0.813580     3.0\n",
            "Fare      25.523893  43.138263    10.5\n",
            "Survived   0.188908   0.391775     0.0\n",
            "Age       30.726645  14.678201    29.0\n",
            "SibSp      0.429809   1.061811     0.0\n",
            "Parch      0.235702   0.612294     0.0\n",
            "Female Stats\n",
            "               Mean      Stdev  Median\n",
            "Pclass     2.159236   0.857290     2.0\n",
            "Fare      44.479818  57.997698    23.0\n",
            "Survived   0.742038   0.438211     1.0\n",
            "Age       27.915709  14.110146    27.0\n",
            "SibSp      0.694268   1.156520     0.0\n",
            "Parch      0.649682   1.022846     0.0\n"
          ]
        }
      ],
      "source": [
        "dfMale = dfTrainNumeric[dfTrainNumeric['Sex'] == 1]\n",
        "dfFemale = dfTrainNumeric[dfTrainNumeric['Sex'] == 0]\n",
        "dfMaleMean = dfMale.mean()\n",
        "dfFemaleMean = dfFemale.mean()\n",
        "dfMaleStdev = dfMale.std()\n",
        "dfFemaleStdev = dfFemale.std()\n",
        "dfMaleMedian = dfMale.median()\n",
        "dfFemaleMedian = dfFemale.median()\n",
        "dfMaleStats = pd.concat([dfMaleMean, dfMaleStdev, dfMaleMedian], axis=1)\n",
        "dfMaleStats.columns = ['Mean', 'Stdev', 'Median']\n",
        "dfFemaleStats = pd.concat([dfFemaleMean, dfFemaleStdev, dfFemaleMedian], axis=1)\n",
        "dfFemaleStats.columns = ['Mean', 'Stdev', 'Median']\n",
        "dfMaleStats = dfMaleStats.drop('Sex')\n",
        "dfFemaleStats = dfFemaleStats.drop('Sex')\n",
        "print('Male Stats') #survival value represents percentage that survived\n",
        "print(dfMaleStats)\n",
        "print('Female Stats')\n",
        "print(dfFemaleStats)"
      ]
    }
  ],
  "metadata": {
    "colab": {
      "provenance": []
    },
    "kernelspec": {
      "display_name": "Python 3",
      "name": "python3"
    },
    "language_info": {
      "codemirror_mode": {
        "name": "ipython",
        "version": 3
      },
      "file_extension": ".py",
      "mimetype": "text/x-python",
      "name": "python",
      "nbconvert_exporter": "python",
      "pygments_lexer": "ipython3",
      "version": "3.9.12"
    }
  },
  "nbformat": 4,
  "nbformat_minor": 0
}
